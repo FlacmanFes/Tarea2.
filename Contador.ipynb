{
  "nbformat": 4,
  "nbformat_minor": 0,
  "metadata": {
    "colab": {
      "name": "Contador",
      "provenance": []
    },
    "kernelspec": {
      "name": "python3",
      "display_name": "Python 3"
    },
    "language_info": {
      "name": "python"
    }
  },
  "cells": [
    {
      "cell_type": "code",
      "metadata": {
        "colab": {
          "base_uri": "https://localhost:8080/"
        },
        "id": "g8RUMjHmtrYW",
        "outputId": "3c08fb2a-2a6d-4b4b-ac50-f2a9d1b98d55"
      },
      "source": [
        "import time\n",
        "\n",
        "numeros = [5,4,3,2,1,0]\n",
        "for n in numeros:\n",
        "  print(n)\n",
        "  time.sleep(1)\n",
        "print('BOOMMMMM !!!')"
      ],
      "execution_count": 8,
      "outputs": [
        {
          "output_type": "stream",
          "name": "stdout",
          "text": [
            "5\n",
            "4\n",
            "3\n",
            "2\n",
            "1\n",
            "0\n",
            "BOOMMMMM !!!\n"
          ]
        }
      ]
    }
  ]
}