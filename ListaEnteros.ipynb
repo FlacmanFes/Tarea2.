{
  "nbformat": 4,
  "nbformat_minor": 0,
  "metadata": {
    "colab": {
      "name": "ListaEnteros",
      "provenance": []
    },
    "kernelspec": {
      "name": "python3",
      "display_name": "Python 3"
    },
    "language_info": {
      "name": "python"
    }
  },
  "cells": [
    {
      "cell_type": "code",
      "metadata": {
        "id": "uqNCuEGGh8pN",
        "colab": {
          "base_uri": "https://localhost:8080/"
        },
        "outputId": "e78d5c32-57b3-4ff2-bb0c-bb275e1338fb"
      },
      "source": [
        "x=0\n",
        "y=1\n",
        "z=0\n",
        "while True:\n",
        "  n=int(input(\"Dame un número que sea mayor a 1\"))\n",
        "  if n>1:\n",
        "    break\n",
        "    print(\"1\",end=\" \")\n",
        "    for i in range(0,n):\n",
        "      z=z+y\n",
        "      print(f\"{z}\",end=\" \")\n",
        "      x=y\n",
        "      y=z\n",
        "      print(\"\")"
      ],
      "execution_count": 8,
      "outputs": [
        {
          "name": "stdout",
          "output_type": "stream",
          "text": [
            "Dame un número que sea mayor a 15\n"
          ]
        }
      ]
    }
  ]
}